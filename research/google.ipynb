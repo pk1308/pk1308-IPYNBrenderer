{
 "cells": [
  {
   "cell_type": "code",
   "execution_count": 1,
   "metadata": {},
   "outputs": [],
   "source": [
    "from IPYNBrenderer import render_google_doc"
   ]
  },
  {
   "cell_type": "code",
   "execution_count": 2,
   "metadata": {},
   "outputs": [
    {
     "data": {
      "text/html": [
       "<iframe \n",
       "            src=\"https://drive.google.com/file/d/1OdJYEFftsw1ZjQjurHJQtmIYysfTkrrq/preview\" \n",
       "            width=640 height=600 \n",
       "            allow=\"autoplay\"></iframe>"
      ],
      "text/plain": [
       "<IPython.core.display.HTML object>"
      ]
     },
     "metadata": {},
     "output_type": "display_data"
    },
    {
     "data": {
      "text/plain": [
       "'success'"
      ]
     },
     "execution_count": 2,
     "metadata": {},
     "output_type": "execute_result"
    }
   ],
   "source": [
    "URL = \"https://drive.google.com/file/d/1OdJYEFftsw1ZjQjurHJQtmIYysfTkrrq/view?usp=sharing\"\n",
    "render_google_doc(URL ) # pdf file"
   ]
  },
  {
   "cell_type": "code",
   "execution_count": 3,
   "metadata": {},
   "outputs": [
    {
     "data": {
      "text/html": [
       "<iframe \n",
       "            src=\"https://drive.google.com/file/d/1uMWKQ4GfOk_vep3yIfQ3axKm2E-6XfYw-iSqsO5WE0M/preview\" \n",
       "            width=640 height=600 \n",
       "            allow=\"autoplay\"></iframe>"
      ],
      "text/plain": [
       "<IPython.core.display.HTML object>"
      ]
     },
     "metadata": {},
     "output_type": "display_data"
    },
    {
     "data": {
      "text/plain": [
       "'success'"
      ]
     },
     "execution_count": 3,
     "metadata": {},
     "output_type": "execute_result"
    }
   ],
   "source": [
    "URL=\"https://docs.google.com/document/d/1uMWKQ4GfOk_vep3yIfQ3axKm2E-6XfYw-iSqsO5WE0M/edit?usp=sharing\"\n",
    "render_google_doc(URL) # doc file "
   ]
  },
  {
   "cell_type": "code",
   "execution_count": 4,
   "metadata": {},
   "outputs": [
    {
     "data": {
      "text/html": [
       "<iframe \n",
       "            src=\"https://drive.google.com/file/d/186vEV4wIcqNzw8hgq1HD5AqPcWUusH8LTrtwKY-fMuY/preview\" \n",
       "            width=640 height=600 \n",
       "            allow=\"autoplay\"></iframe>"
      ],
      "text/plain": [
       "<IPython.core.display.HTML object>"
      ]
     },
     "metadata": {},
     "output_type": "display_data"
    },
    {
     "data": {
      "text/plain": [
       "'success'"
      ]
     },
     "execution_count": 4,
     "metadata": {},
     "output_type": "execute_result"
    }
   ],
   "source": [
    "URL ='https://docs.google.com/spreadsheets/d/186vEV4wIcqNzw8hgq1HD5AqPcWUusH8LTrtwKY-fMuY/edit?usp=sharing'\n",
    "render_google_doc(URL) # sheets file"
   ]
  },
  {
   "cell_type": "code",
   "execution_count": 5,
   "metadata": {},
   "outputs": [
    {
     "data": {
      "text/html": [
       "<iframe \n",
       "            src=\"https://drive.google.com/file/d/101jrn2Nf2LqzYu2mlgIVdBhezKTYDfh1D5obmwydxo4/preview\" \n",
       "            width=700 height=500 \n",
       "            allow=\"autoplay\"></iframe>"
      ],
      "text/plain": [
       "<IPython.core.display.HTML object>"
      ]
     },
     "metadata": {},
     "output_type": "display_data"
    },
    {
     "data": {
      "text/plain": [
       "'success'"
      ]
     },
     "execution_count": 5,
     "metadata": {},
     "output_type": "execute_result"
    }
   ],
   "source": [
    "URL = \"https://docs.google.com/presentation/d/101jrn2Nf2LqzYu2mlgIVdBhezKTYDfh1D5obmwydxo4/edit?usp=sharing\"\n",
    "render_google_doc(URL , height=\"500\" , width=\"700\") # slides "
   ]
  },
  {
   "cell_type": "code",
   "execution_count": null,
   "metadata": {},
   "outputs": [],
   "source": []
  }
 ],
 "metadata": {
  "kernelspec": {
   "display_name": "Python 3.8.0 ('ipynb')",
   "language": "python",
   "name": "python3"
  },
  "language_info": {
   "codemirror_mode": {
    "name": "ipython",
    "version": 3
   },
   "file_extension": ".py",
   "mimetype": "text/x-python",
   "name": "python",
   "nbconvert_exporter": "python",
   "pygments_lexer": "ipython3",
   "version": "3.8.0"
  },
  "orig_nbformat": 4,
  "vscode": {
   "interpreter": {
    "hash": "fb507c508242da7844964153d08f44ba458b8e6cb709b006051beb913f67dab6"
   }
  }
 },
 "nbformat": 4,
 "nbformat_minor": 2
}
